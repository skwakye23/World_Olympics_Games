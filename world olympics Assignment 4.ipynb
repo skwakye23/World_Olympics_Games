{
 "cells": [
  {
   "cell_type": "markdown",
   "metadata": {},
   "source": [
    "# Importing all needed files"
   ]
  },
  {
   "cell_type": "code",
   "execution_count": null,
   "metadata": {},
   "outputs": [],
   "source": [
    "import os\n",
    "os.chdir('c:/users/user/desktop/world olympics/')\n",
    "os.listdir()"
   ]
  },
  {
   "cell_type": "code",
   "execution_count": null,
   "metadata": {},
   "outputs": [],
   "source": [
    "import pandas as pd\n",
    "df_continent=pd.read_csv('country.txt')\n",
    "df_olympics=pd.read_csv('athlete_events.csv')\n",
    "# df_continent=pd.read_csv('continent.txt')\n"
   ]
  },
  {
   "cell_type": "code",
   "execution_count": null,
   "metadata": {},
   "outputs": [],
   "source": [
    "df_olympics.head(5)"
   ]
  },
  {
   "cell_type": "code",
   "execution_count": null,
   "metadata": {},
   "outputs": [],
   "source": [
    "df_olympics.shape"
   ]
  },
  {
   "cell_type": "code",
   "execution_count": null,
   "metadata": {},
   "outputs": [],
   "source": [
    "df_continent=df_continent.loc[ : , ['Continent_Name', 'Country_Name', 'Three_Letter_Country_Code' ] ]\n",
    "df_continent.head(3)                            "
   ]
  },
  {
   "cell_type": "code",
   "execution_count": null,
   "metadata": {},
   "outputs": [],
   "source": [
    "df_continent=df_continent.append({'Continent_Name':'Europe','Country_Name':'Netherlands','Three_Letter_Country_Code':'NED'},ignore_index=True)\n",
    "df_continent=df_continent.append({'Continent_Name':'Europe','Country_Name':'Denmark','Three_Letter_Country_Code':'DEN'},ignore_index=True)\n",
    "df_continent=df_continent.append({'Continent_Name':'Europe','Country_Name':'Denmark/Sweden','Three_Letter_Country_Code':'DEN'},ignore_index=True)\n",
    "df_continent=df_continent.append({'Continent_Name':'Europe','Country_Name':'Greece','Three_Letter_Country_Code':'GRE'},ignore_index=True)\n",
    "df_continent=df_continent.append({'Continent_Name':'Africa','Country_Name':'Chad','Three_Letter_Country_Code':'CHA'},ignore_index=True)\n",
    "df_continent=df_continent.append({'Continent_Name':'Africa','Country_Name':'Sudan','Three_Letter_Country_Code':'SUD'},ignore_index=True)\n",
    "df_continent=df_continent.append({'Continent_Name':'North America','Country_Name':'Nicaragua','Three_Letter_Country_Code':'NCA'},ignore_index=True)\n",
    "\n",
    "df_continent=df_continent.append({'Continent_Name':'Africa','Country_Name':'Algeria','Three_Letter_Country_Code':'ALG'},ignore_index=True)\n",
    "df_continent=df_continent.append({'Continent_Name':'Asia','Country_Name':'kuwait','Three_Letter_Country_Code':'KUW'},ignore_index=True)\n",
    "df_continent=df_continent.append({'Continent_Name':'Europe','Country_Name':'Soviet Union','Three_Letter_Country_Code':'URS'},ignore_index=True)\n",
    "df_continent=df_continent.append({'Continent_Name':'Asia','Country_Name':'Iran','Three_Letter_Country_Code':'IRI'},ignore_index=True)\n",
    "df_continent=df_continent.append({'Continent_Name':'Europe','Country_Name':'Czechoslovakia','Three_Letter_Country_Code':'TCH'},ignore_index=True)\n",
    "\n",
    "\n",
    "df_continent=df_continent.append({'Continent_Name':'Europe','Country_Name':'Bulgaria','Three_Letter_Country_Code':'BUL'},ignore_index=True)\n",
    "df_continent=df_continent.append({'Continent_Name':'South America','Country_Name':'Chile','Three_Letter_Country_Code':'CHI'},ignore_index=True)\n",
    "df_continent=df_continent.append({'Continent_Name':'Europe','Country_Name':'Germany','Three_Letter_Country_Code':'GER'},ignore_index=True)\n",
    "df_continent=df_continent.append({'Continent_Name':'Europe','Country_Name':'Switzerland','Three_Letter_Country_Code':'SUI'},ignore_index=True)\n",
    "df_continent=df_continent.append({'Continent_Name':'Asia','Country_Name':'Malaysia','Three_Letter_Country_Code':'MAS'},ignore_index=True)\n",
    "df_continent=df_continent.append({'Continent_Name':'Asia','Country_Name':'Lebanon','Three_Letter_Country_Code':'LIB'},ignore_index=True)\n",
    "\n",
    "df_continent=df_continent.append({'Continent_Name':'Asia','Country_Name':'United Arab Republic','Three_Letter_Country_Code':'UAR'},ignore_index=True)\n",
    "df_continent=df_continent.append({'Continent_Name':'Africa','Country_Name':'South Africa','Three_Letter_Country_Code':'RSA'},ignore_index=True)\n",
    "df_continent=df_continent.append({'Continent_Name':'Europe','Country_Name':' Slovenia','Three_Letter_Country_Code':'SLO'},ignore_index=True)\n",
    "df_continent=df_continent.append({'Continent_Name':'Europe','Country_Name':'Latvia','Three_Letter_Country_Code':'LAT'},ignore_index=True)\n",
    "df_continent=df_continent.append({'Continent_Name':'Asia','Country_Name':'Malaysia','Three_Letter_Country_Code':'MAS'},ignore_index=True)\n",
    "df_continent=df_continent.append({'Continent_Name':'Asia','Country_Name':'Lebanon','Three_Letter_Country_Code':'LIB'},ignore_index=True)\n",
    "\n",
    "df_continent=df_continent.append({'Continent_Name':'Africa','Country_Name':'Tanzania','Three_Letter_Country_Code':'TAN'},ignore_index=True)\n",
    "df_continent=df_continent.append({'Continent_Name':'Africa','Country_Name':'Libya','Three_Letter_Country_Code':'LBA'},ignore_index=True)\n",
    "df_continent=df_continent.append({'Continent_Name':'Africa','Country_Name':' Zimbabwe','Three_Letter_Country_Code':'ZIM'},ignore_index=True)\n",
    "df_continent=df_continent.append({'Continent_Name':'Europe','Country_Name':'Yugoslavia','Three_Letter_Country_Code':'YUG'},ignore_index=True)\n",
    "df_continent=df_continent.append({'Continent_Name':'Asia','Country_Name':'Palestine','Three_Letter_Country_Code':'PLE'},ignore_index=True)\n",
    "\n",
    "df_continent=df_continent.append({'Continent_Name':'Asia','Country_Name':'Saudi Arabia','Three_Letter_Country_Code':'KSA'},ignore_index=True)\n",
    "df_continent=df_continent.append({'Continent_Name':'Asia','Country_Name':'Brunei','Three_Letter_Country_Code':'BRU'},ignore_index=True)\n",
    "df_continent=df_continent.append({'Continent_Name':'Europe','Country_Name':'Croatia','Three_Letter_Country_Code':'CRO'},ignore_index=True)\n",
    "\n",
    "\n",
    "df_continent=df_continent.append({'Continent_Name':'Africa','Country_Name':'Nigeria','Three_Letter_Country_Code':'NGR'},ignore_index=True)\n",
    "df_continent=df_continent.append({'Continent_Name':'Asia','Country_Name':'Indonesia','Three_Letter_Country_Code':'INA'},ignore_index=True)\n",
    "df_continent=df_continent.append({'Continent_Name':'Asia','Country_Name':'Philippines','Three_Letter_Country_Code':'PHI'},ignore_index=True)\n",
    "\n",
    "df_continent=df_continent.append({'Continent_Name':'Asia','Country_Name':'North Yemen','Three_Letter_Country_Code':'YAR'},ignore_index=True)\n",
    "df_continent=df_continent.append({'Continent_Name':'Asia','Country_Name':'United Arab Emirates','Three_Letter_Country_Code':'UAE'},ignore_index=True)\n",
    "\n",
    "df_continent=df_continent.append({'Continent_Name':'Europe','Country_Name':'West Germany','Three_Letter_Country_Code':'GDR'},ignore_index=True)\n",
    "df_continent=df_continent.append({'Continent_Name':'Europe','Country_Name':'East Germany','Three_Letter_Country_Code':'FRG'},ignore_index=True)\n",
    "\n",
    "df_continent=df_continent.append({'Continent_Name':'Africa','Country_Name':'Mongolia','Three_Letter_Country_Code':'CGO'},ignore_index=True)\n",
    "df_continent=df_continent.append({'Continent_Name':'Africa','Country_Name':'Congo (Brazzaville)','Three_Letter_Country_Code':'MGL'},ignore_index=True)\n",
    "\n",
    "df_continent=df_continent.append({'Continent_Name':'Africa','Country_Name':'Zambia','Three_Letter_Country_Code':'ZAM'},ignore_index=True)\n",
    "\n",
    "df_continent=df_continent.append({'Continent_Name':'Europe','Country_Name':'Monaco','Three_Letter_Country_Code':'MON'},ignore_index=True)"
   ]
  },
  {
   "cell_type": "code",
   "execution_count": null,
   "metadata": {},
   "outputs": [],
   "source": [
    "df=pd.merge(df_olympics,df_continent,left_on='NOC',right_on='Three_Letter_Country_Code',how='left', indicator=True)"
   ]
  },
  {
   "cell_type": "code",
   "execution_count": null,
   "metadata": {},
   "outputs": [],
   "source": [
    "df.head(2)"
   ]
  },
  {
   "cell_type": "code",
   "execution_count": null,
   "metadata": {},
   "outputs": [],
   "source": [
    "df=df.loc[ : ,['Sex', 'Age', 'Height', 'Weight', 'Team', 'NOC', 'Games',\n",
    "       'Year', 'Season', 'Sport', 'Event', 'Medal', 'Continent_Name', 'Three_Letter_Country_Code', '_merge'] ]"
   ]
  },
  {
   "cell_type": "code",
   "execution_count": null,
   "metadata": {},
   "outputs": [],
   "source": [
    "df.head(4)"
   ]
  },
  {
   "cell_type": "code",
   "execution_count": null,
   "metadata": {},
   "outputs": [],
   "source": [
    "df=df.loc[ df['Year']>1979 , ['Year','Continent_Name','Sex','Sport','Medal']]\n",
    "df.head(5)"
   ]
  },
  {
   "cell_type": "code",
   "execution_count": null,
   "metadata": {},
   "outputs": [],
   "source": [
    "attend_freq=df.groupby('Continent_Name')['Sex'].count()\n",
    "attend_freq=pd.DataFrame(attend_freq)\n",
    "attend_freq.reset_index(inplace=True)\n",
    "attend_freq.columns=['Continent_Name','Attendance']\n",
    "attend_freq=attend_freq.sort_values(by='Attendance',ascending=False)\n",
    "# attend_freq.to_excel('Participation.xlsx')\n"
   ]
  },
  {
   "cell_type": "code",
   "execution_count": null,
   "metadata": {},
   "outputs": [],
   "source": [
    "# plotting frequency bar chart\n",
    "%matplotlib notebook\n",
    "from matplotlib import pyplot as plt\n",
    "# importind for the thousand seperator\n",
    "\n",
    "#Spacing title and the chart\n",
    "from matplotlib import rcParams\n",
    "rcParams['axes.titlepad'] = 25 \n",
    "\n",
    "import locale\n",
    "locale.setlocale(locale.LC_ALL, '')  # Use '' for auto, or force e.g. to 'en_US.UTF-8'\n",
    "\n",
    "\n",
    "plt.figure(figsize=(9,6))\n",
    "bars=plt.bar(attend_freq['Continent_Name'],attend_freq['Attendance'], color='lightgray', edgecolor='k')\n",
    "bars[0].set_color('darkcyan')\n",
    "\n",
    "plt.title('OLYMPICS GAMES \\n Participant Count By Continent (1980 - 2016)')\n",
    "plt.ylabel('Participant Count')\n",
    "plt.yticks([0,40000,80000])\n",
    "\n",
    "\n",
    "# direct label each bar with Y axis values\n",
    "for bar in bars:\n",
    "    plt.gca().text(bar.get_x() + bar.get_width()/2, bar.get_height() - 1.5, str(f'{int(bar.get_height()):n}' ) , \n",
    "                 ha='center', color='k', fontsize=11)\n",
    "    \n",
    "\n",
    "plt.box(on=False)\n",
    "\n",
    "# plt.savefig('Particiapant_count.png')"
   ]
  },
  {
   "cell_type": "code",
   "execution_count": null,
   "metadata": {},
   "outputs": [],
   "source": [
    "# df=df.fillna(0)\n",
    "# df\n",
    "cont_df=df.groupby(['Year','Continent_Name'])['Medal'].count()\n",
    "cont_df=cont_df.unstack(1)\n",
    "# cont_df.reset_index(inplace=True)\n",
    "cont_df.head(20)"
   ]
  },
  {
   "cell_type": "code",
   "execution_count": null,
   "metadata": {},
   "outputs": [],
   "source": [
    "# std for attendance\n",
    "ss=df.groupby(['Year','Continent_Name'])['Sex'].count()\n",
    "attend_std_df=ss.unstack()\n",
    "attend_std_df=attend_std_df.std()\n",
    "attend_std_df=pd.DataFrame(attend_std_df)\n",
    "attend_std_df=attend_std_df.reset_index()\n",
    "attend_std_df.columns=['Continent_Name','attend_std']\n",
    "attend_std_df"
   ]
  },
  {
   "cell_type": "code",
   "execution_count": null,
   "metadata": {},
   "outputs": [],
   "source": [
    "std_df=cont_df.std()\n",
    "std_df=std_df.astype(int)\n",
    "std_df=pd.DataFrame(std_df)\n",
    "medal_std_df=std_df.reset_index()\n",
    "medal_std_df.columns=['Continent_Name','medal_std']\n",
    "medal_std_df"
   ]
  },
  {
   "cell_type": "code",
   "execution_count": null,
   "metadata": {},
   "outputs": [],
   "source": [
    "std_df=pd.merge(attend_std_df,medal_std_df,how='outer',left_on='Continent_Name',right_on='Continent_Name')\n",
    "std_df['std']= (std_df['medal_std']/std_df['attend_std'] )*100\n",
    "std_df['std']=round(std_df['std'],2)\n",
    "std_df['stand_error']=(std_df['std']/(len(cont_df['Africa'])-1)**0.5) \n",
    "std_df['stand_error']=round(std_df['stand_error'],2)\n",
    "std_df"
   ]
  },
  {
   "cell_type": "code",
   "execution_count": null,
   "metadata": {},
   "outputs": [],
   "source": [
    "cont_df1=df.groupby(['Continent_Name'])['Medal'].count()\n",
    "cont_df1=pd.DataFrame(cont_df1)\n",
    "cont_df1.reset_index(inplace=True)\n",
    "# cont_df.reset_index(inplace=True)\n",
    "cont_df1.sort_values(by='Medal', ascending=False, inplace=True)\n",
    "cont_df1.head(20)"
   ]
  },
  {
   "cell_type": "code",
   "execution_count": null,
   "metadata": {},
   "outputs": [],
   "source": [
    "game_attend=df.groupby(['Continent_Name'])['Sex'].count()\n",
    "game_attend=pd.DataFrame(game_attend)\n",
    "game_attend=game_attend.reset_index()\n",
    "game_attend.columns=['Continent','Attendance']\n",
    "game_attend.sort_values(inplace=True, by='Attendance', ascending=False)\n",
    "game_attend"
   ]
  },
  {
   "cell_type": "code",
   "execution_count": null,
   "metadata": {},
   "outputs": [],
   "source": [
    "prop_df=pd.merge(cont_df1,game_attend,left_on='Continent_Name',right_on='Continent', how='outer')\n",
    "\n",
    "prop_df['Performance']=(prop_df['Medal']/prop_df['Attendance'])*100\n",
    "prop_df.sort_values(inplace=True, ascending=False,by='Performance')\n",
    "prop_df['Performance']=round(prop_df['Performance'],1)\n",
    "\n",
    "prop_df=pd.merge(prop_df,std_df,left_on='Continent_Name',right_on='Continent_Name', how='outer')\n",
    "\n",
    "prop_df['std_errorbar']=(prop_df['stand_error']*prop_df['Performance'])/100\n",
    "prop_df['std_errorbar']=round(prop_df['std_errorbar'],2)\n",
    "prop_df['CI_errorbar']=round(prop_df['std_errorbar']*2.131,2)\n",
    "prop_df\n",
    "# prop_df.to_excel('Finalized_Olympics_Games.xlsx')"
   ]
  },
  {
   "cell_type": "code",
   "execution_count": null,
   "metadata": {},
   "outputs": [],
   "source": []
  },
  {
   "cell_type": "code",
   "execution_count": null,
   "metadata": {},
   "outputs": [],
   "source": [
    "%matplotlib notebook \n",
    "from matplotlib import pyplot as plt\n",
    "import numpy as np\n",
    "from matplotlib.ticker import FuncFormatter\n",
    "import matplotlib.image as img\n",
    "\n",
    "plt.style.use('fivethirtyeight')\n",
    "\n",
    "#Spacing title and the chart\n",
    "from matplotlib import rcParams\n",
    "rcParams['axes.titlepad'] = 25 \n",
    "\n",
    "\n",
    "fig,ax1=plt.subplots(nrows=1,ncols=1,figsize=(7,5))\n",
    "\n",
    "\n",
    "# img = plt.imread('olympics.png')\n",
    "# ax1.imshow(img)\n",
    "\n",
    "# bars=ax1.bar(cont_df1['Continent_Name'],cont_df1['Medal'],color='cornflowerblue')\n",
    "\n",
    "\n",
    "# ax2.bar(game_attend['Continent'],game_attend['Attendance'], color='cornflowerblue')\n",
    "\n",
    "\n",
    "\n",
    "bars=ax1.bar(prop_df['Continent'],prop_df['Performance'], color='dimgray',edgecolor='teal', alpha=0.85)\n",
    "ax1.errorbar(prop_df['Continent'],prop_df['Performance'],yerr=prop_df['CI_errorbar'], fmt=' ', capsize=15 ,ecolor='blue',elinewidth=3)\n",
    "bars[2].set_color('teal')\n",
    "\n",
    "ax1.set_title('Olympics Games \\n Medal Winning Rate By Continents(1980 - 2016) \\n 95% Confidence', fontsize=12)\n",
    "\n",
    "\n",
    "# ax1.set_ylabel('Percentage', fontsize=12)\n",
    "plt.yticks([0,5,10,15,20],labels=['0','5%','10%','15%','20%'], fontsize=10) \n",
    "plt.xticks(fontsize=10)\n",
    "\n",
    "\n",
    "\n",
    "# direct label each bar with Y axis values\n",
    "for bar in bars:\n",
    "    plt.gca().text(bar.get_x() + bar.get_width()/2, bar.get_height() - 5, str((bar.get_height())) + '%', \n",
    "                 ha='center', color='w', fontsize=11, fontweight='bold')\n",
    " \n",
    "plt.grid(axis='x')\n",
    "plt.box(on=None)\n",
    "\n",
    "plt.tight_layout(True)\n",
    "\n",
    "plt.savefig('Olympics_Winning_Rate.png')"
   ]
  },
  {
   "cell_type": "code",
   "execution_count": null,
   "metadata": {},
   "outputs": [],
   "source": [
    "plt.style.available"
   ]
  },
  {
   "cell_type": "markdown",
   "metadata": {},
   "source": [
    "$ Medal Winning Rate(MWR) =( ( Total Medals ) / (Total Number of Participants)  ) *100 $"
   ]
  },
  {
   "cell_type": "code",
   "execution_count": null,
   "metadata": {},
   "outputs": [],
   "source": []
  }
 ],
 "metadata": {
  "kernelspec": {
   "display_name": "Python 3",
   "language": "python",
   "name": "python3"
  },
  "language_info": {
   "codemirror_mode": {
    "name": "ipython",
    "version": 3
   },
   "file_extension": ".py",
   "mimetype": "text/x-python",
   "name": "python",
   "nbconvert_exporter": "python",
   "pygments_lexer": "ipython3",
   "version": "3.7.6"
  }
 },
 "nbformat": 4,
 "nbformat_minor": 4
}
